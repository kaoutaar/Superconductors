{
 "cells": [
  {
   "cell_type": "markdown",
   "id": "acquired-writer",
   "metadata": {
    "execution": {
     "iopub.execute_input": "2021-07-04T12:16:05.23472Z",
     "iopub.status.busy": "2021-07-04T12:16:05.234034Z",
     "iopub.status.idle": "2021-07-04T12:16:05.241785Z",
     "shell.execute_reply": "2021-07-04T12:16:05.240377Z",
     "shell.execute_reply.started": "2021-07-04T12:16:05.234614Z"
    },
    "papermill": {
     "duration": 0.030299,
     "end_time": "2022-08-24T22:28:06.564762",
     "exception": false,
     "start_time": "2022-08-24T22:28:06.534463",
     "status": "completed"
    },
    "tags": []
   },
   "source": [
    "<br>\n",
    "<br>\n",
    "\n",
    "<br>\n",
    "\n",
    "<br>\n",
    "\n",
    "\n",
    "#    <center> ❄❄ Prediction of Superconducting Critical Temperature ❄❄ <center>\n",
    "<br>"
   ]
  },
  {
   "cell_type": "markdown",
   "id": "cooked-bubble",
   "metadata": {
    "papermill": {
     "duration": 0.024922,
     "end_time": "2022-08-24T22:28:06.613732",
     "exception": false,
     "start_time": "2022-08-24T22:28:06.588810",
     "status": "completed"
    },
    "tags": []
   },
   "source": [
    "<img src=\"https://static.spektrum.de/fm/912/thumbnails/Supraleiter-schwebender-Magnet-iStock_49768936_ktsimage.jpg.3112312.jpg\">"
   ]
  },
  {
   "cell_type": "markdown",
   "id": "varied-appraisal",
   "metadata": {
    "papermill": {
     "duration": 0.023067,
     "end_time": "2022-08-24T22:28:06.660218",
     "exception": false,
     "start_time": "2022-08-24T22:28:06.637151",
     "status": "completed"
    },
    "tags": []
   },
   "source": [
    "# Introduction"
   ]
  },
  {
   "cell_type": "markdown",
   "id": "neither-forty",
   "metadata": {
    "papermill": {
     "duration": 0.021956,
     "end_time": "2022-08-24T22:28:06.704887",
     "exception": false,
     "start_time": "2022-08-24T22:28:06.682931",
     "status": "completed"
    },
    "tags": []
   },
   "source": [
    "the goal of this notebook is modeling critical temperature of a superconductor based on its chemical properties using two regression models, Decision tree and Random forest.\n",
    "\n",
    "The first part will tackle the theory behind the algorithms and gives a short presentation of the relative parameters and metrics.  \n",
    "The second part will be reserved to the dataset preprocessing, after introducing the necessary techniques to that purpose.  \n",
    "And in the last part, an evaluation of the models' performance will be presented as well as a comparative analysis to determine wich one gets to decode the pattern behind data.\n",
    "\n",
    "<br>\n",
    "<br>\n",
    "\n",
    "> 📍📍NB: all you questions are welcome 😃😃\n",
    "\n",
    "<br> \n",
    "<br> \n",
    "<br> \n",
    "<br> \n",
    "\n",
    "\n",
    "**What is superconductivity?**\n",
    "\n",
    "Superconductivity is a phenomenon of exactly zero electrical resistance and expulsion of magnetic flux fields occurring in certain materials, called superconductors, when cooled below a characteristic critical temperature. Superconductors are widely used in many industries, e.g. the Magnetic Resonance Imaging (MRI) in health care, electricity transportation in energy industry and magnetic separation, etc.\n",
    "Superconductivity Data Set used in this notebook is hosted in UCI machine learning [repository](https://archive.ics.uci.edu/ml/datasets/Superconductivty+Data)   \n",
    "\n",
    "the repository contains two files:   \n",
    "* (1) train.csv contains 81 features extracted from 21263 superconductors along with the critical temperature in the 82nd column, and this will be our main dataset.\n",
    "* (2) unique_m.csv contains the chemical formula broken up for all the 21263 superconductors from the train.csv file. (which we will not use)\n"
   ]
  },
  {
   "cell_type": "code",
   "execution_count": 1,
   "id": "alien-sensitivity",
   "metadata": {
    "execution": {
     "iopub.execute_input": "2022-08-24T22:28:06.760539Z",
     "iopub.status.busy": "2022-08-24T22:28:06.759845Z",
     "iopub.status.idle": "2022-08-24T22:28:08.157825Z",
     "shell.execute_reply": "2022-08-24T22:28:08.158356Z",
     "shell.execute_reply.started": "2021-07-05T12:52:55.855466Z"
    },
    "papermill": {
     "duration": 1.431929,
     "end_time": "2022-08-24T22:28:08.158752",
     "exception": false,
     "start_time": "2022-08-24T22:28:06.726823",
     "status": "completed"
    },
    "tags": []
   },
   "outputs": [],
   "source": [
    "#necessary import \n",
    "import sklearn\n",
    "import pandas as pd\n",
    "import numpy as np\n",
    "import matplotlib.pyplot as plt\n",
    "from matplotlib.ticker import MaxNLocator\n",
    "import seaborn as sb\n",
    "from sklearn import model_selection\n",
    "from sklearn.model_selection import train_test_split, GridSearchCV, cross_validate, validation_curve,KFold\n",
    "from sklearn.preprocessing import MinMaxScaler , Normalizer\n",
    "from sklearn.metrics import  explained_variance_score, mean_squared_error,mean_absolute_error\n",
    "from sklearn.decomposition import PCA\n",
    "\n",
    "from sklearn.tree import DecisionTreeRegressor\n",
    "from sklearn.ensemble import RandomForestRegressor\n"
   ]
  },
  {
   "cell_type": "markdown",
   "id": "fatty-batch",
   "metadata": {
    "papermill": {
     "duration": 0.02231,
     "end_time": "2022-08-24T22:28:08.204236",
     "exception": false,
     "start_time": "2022-08-24T22:28:08.181926",
     "status": "completed"
    },
    "tags": []
   },
   "source": [
    "# 1.Some mathematics\n",
    "<br>\n",
    "\n",
    "## Regression tree algorithm\n",
    "\n",
    "A regression tree is built through a process known as binary recursive partitioning, which is an iterative process that splits the data into partitions or branches, and then continues splitting each partition into smaller groups as the method moves up each branch.\n",
    "\n",
    "Given a training set $X_n=x_1, x_2, ... x_n$ with responses $Y_n=y_1, y_2, ... y_n$ \n",
    "\n",
    "Initially, the algorithm begins allocating the data into the first two partitions considering every splitting variable $j$ and split point $s$    \n",
    "  \n",
    "  \n",
    " <center> $ R_1(j,s) = \\{ X| X_j \\le s \\} $ and $ R_2(j,s) = \\{ X| X_j \\gt s \\} $ </center>\n",
    "   \n",
    "   \n",
    "then the algorithm selects the binary split that minimizes   \n",
    "  \n",
    "   <center> $ [ \\sum\\limits_{x_i \\in R_1(j,s)} (y_i-c_1)^2 + \\sum\\limits_{x_i \\in R_2(j,s)} (y_i-c_2)^2 ]$ </center>\n",
    "   \n",
    " with $c_k= avg(y_i | x_i\\in R_k(j,s))$ ,  $k = 1,2$  \n",
    "   \n",
    " <br>\n",
    "   \n",
    "   Having found the best split, This splitting rule is then applied to each of the resulting branches. This process continues until each node or partition reaches a user-prespecified minimum node size and becomes a terminal node. (If the quantity $\\sum\\limits_{x_i \\in node} (y_i-c_{node})^2$ in a node is zero, then that node is considered a terminal node even if it has not reached the minimum size.)  \n",
    "       \n",
    "\n",
    "A very large tree might overfit the data, while a small tree might not capture the important structure. this tradeoff is governed by the tree size, and to find the best tree size, we use the cost complexity pruning algorithm:\n",
    "> * start by growing a large tree $T_0$ and stop spplitting process only when minimum node size is reached.  \n",
    "* for a given $\\alpha$ find $T(\\alpha) \\subseteq T_0$ that minimize   \n",
    "  \n",
    "  \n",
    " <center> $ C_{\\alpha}(T) = C(T) + \\alpha|\\tilde T|$ </center>    \n",
    "   \n",
    "   \n",
    ">with $T$ define any subtree $\\subset T_0$, and $|\\tilde T|$  denote the number of terminal nodes in $T$,  and  $ C(T) =\\sum\\limits_{t \\in \\tilde T} N_t Q_t$ , $t$ indexes terminal nodes\n",
    "  \n",
    "  <center> $ Q_t= \\frac 1{N_t} \\sum\\limits_{x_i \\in R_t}(y_i-\\hat c_t)^2 $ </center>    \n",
    "   <center> $ N_t= cardinal\\{x_i \\in R_t\\} $ </center>  \n",
    "     \n",
    "     \n",
    "   <center> $ \\hat c_t= \\frac 1{N_t} \\sum\\limits_{x_i \\in R_t}y_i $ </center>\n",
    "     \n",
    "> * try the above for different values of $\\alpha$ and pick $\\hat \\alpha$ that minimizes the cross-validated error. It's clear that for $\\alpha = 0$ the solution is the full tree $T_0$ and with increasing $\\alpha$ the tree becomes smaller and smaller implying less complexity.\n",
    "\n",
    "Once the final tree $T(\\hat \\alpha)$ is built, for every new observation that falls into a terminal node, the predicted response will be the mean value of responses in that node.\n",
    "\n",
    "<br>\n",
    "<br>\n",
    "\n",
    "## Random forest regression algorithm\n",
    "\n",
    "Random forest is a kind of regression trees bagging, the idea behind is to construct multiple trees at training time and averaging the results to end up with a single prediction model highly accurate.  \n",
    "The conception of the algorithm is simple but requires a short explanation of each step:  \n",
    "* For $b=1, ...,B$ :  \n",
    "\n",
    " * Sample from $X_n, Y_n$, with replacement, n-sized sample  $X_b, Y_b$ .  \n",
    " \n",
    " * for each bootsrapped training set $X_b, Y_b$, a random selection of $m$ predictors is chosen as split candidates from the full set of $p$ predictors, typically we choose $m= \\sqrt p$.  \n",
    " \n",
    " * Train a regression tree $\\hat T_b$ on $X_b, Y_b$.   \n",
    "   \n",
    "* for each new sample $x^* $, the predicted response is $ \\hat y^* = \\frac 1{B} \\sum\\limits_{b=1}^{B} \\hat y^b$  \n",
    "  \n",
    "  \n",
    "<br>\n",
    "<br>\n",
    "\n",
    "## Performance metrics\n",
    "  \n",
    "many performance metrics exist to evaluate the quality of fit of a regression model, The most commonly used are:\n",
    "\n",
    "* MSE (Mean Squared Error), is defined as the average squared distance between the actual score and the predicted score, a good regression model is characterized by a small MSE and vice-versa\n",
    "\n",
    "<center> $MSE= \\frac { \\sum\\limits_{i=1}^n (y_i-\\hat y_i)^2 }n $ </center>\n",
    "<br>\n",
    "* MAE (Mean Absolute Error), is the average of absolute differences between our target and predicted values,\n",
    "\n",
    "<center> $MAE= \\frac { \\sum\\limits_{i=1}^n |y_i-\\hat y_i| }n $ </center>\n",
    "\n",
    "<br>\n",
    "\n",
    "the main difference between MSE and MAE is that this latter is less sensitive to outliers, how ?? ===>\n",
    "Imagine a target with a spread of values in $[3,12] $ and some outliers ranging from $70$ to $100$, the squared error between 100 and 3 is huge $(100-3)^2=9409$ compared to the absolute error  $|100-3|=97$, which gives impression that the MSE is huge as well. The algorithm by trying to minimize this MSE it will gives more weights to outliers, this scenario will certainly lead to overfitted and biased model. \n",
    "\n",
    "So MAE loss is more preferable if we detect the existence of a outliers."
   ]
  },
  {
   "cell_type": "markdown",
   "id": "manual-wonder",
   "metadata": {
    "papermill": {
     "duration": 0.023846,
     "end_time": "2022-08-24T22:28:08.252732",
     "exception": false,
     "start_time": "2022-08-24T22:28:08.228886",
     "status": "completed"
    },
    "tags": []
   },
   "source": [
    "# 2. Data preprocessing\n",
    "\n",
    "one of the most important steps in data preprocessing is feature selection which aims at reducing the dimensionality of the problem, and eliminate redundant or irrelevant (noisy) variables. Benefits are twofold: it decreases complexity of the predictive model, and allows more accurate prediction since high-dimensionality makes predictive models more prone to overfitting, and estimates of parameters more variant.   \n",
    "\n",
    "Two are the main approaches to feature selection:\n",
    "* Filter methods: They attempt to assess the merits of features from the data, ignoring the effects of the selected feature subset on the performance of the learning algorithm. Examples are methods that select variables by ranking them through compression techniques (like PCA), or by computing correlation or a more advanced similarity measure such as minimum redundancy maximum relevance (mRMR) with the output.   \n",
    "* Wrapper methods: these methods assess subsets of variables according to their usefulness to a given predictor. The method conducts a search for a good subset using the learning algorithm itself as part of the evaluation function. The problem boils down to a problem of stochastic state space search. Example are the stepwise methods proposed in linear regression analysis.\n",
    "\n",
    "## Correlation Analysis Between Predictors\n",
    "\n",
    "after loading the training dataset we will try to investigate correlation between features, and if any features selection technique might be applied\n",
    "\n"
   ]
  },
  {
   "cell_type": "code",
   "execution_count": 2,
   "id": "familiar-airplane",
   "metadata": {
    "execution": {
     "iopub.execute_input": "2022-08-24T22:28:08.304616Z",
     "iopub.status.busy": "2022-08-24T22:28:08.303858Z",
     "iopub.status.idle": "2022-08-24T22:28:09.489797Z",
     "shell.execute_reply": "2022-08-24T22:28:09.488944Z",
     "shell.execute_reply.started": "2021-07-05T12:52:55.865484Z"
    },
    "papermill": {
     "duration": 1.213151,
     "end_time": "2022-08-24T22:28:09.489975",
     "exception": false,
     "start_time": "2022-08-24T22:28:08.276824",
     "status": "completed"
    },
    "tags": []
   },
   "outputs": [],
   "source": [
    "import requests, io, zipfile\n",
    "\n",
    "r = requests.get(\"https://archive.ics.uci.edu/ml/machine-learning-databases/00464/superconduct.zip\")\n",
    "z = zipfile.ZipFile(io.BytesIO(r.content))\n",
    "data = pd.read_csv(z.open('train.csv'))"
   ]
  },
  {
   "cell_type": "code",
   "execution_count": 3,
   "id": "measured-discussion",
   "metadata": {
    "execution": {
     "iopub.execute_input": "2022-08-24T22:28:09.557267Z",
     "iopub.status.busy": "2022-08-24T22:28:09.556480Z",
     "iopub.status.idle": "2022-08-24T22:28:09.589074Z",
     "shell.execute_reply": "2022-08-24T22:28:09.588476Z",
     "shell.execute_reply.started": "2021-07-05T12:52:58.584012Z"
    },
    "papermill": {
     "duration": 0.075066,
     "end_time": "2022-08-24T22:28:09.589229",
     "exception": false,
     "start_time": "2022-08-24T22:28:09.514163",
     "status": "completed"
    },
    "tags": []
   },
   "outputs": [
    {
     "data": {
      "text/html": [
       "<div>\n",
       "<style scoped>\n",
       "    .dataframe tbody tr th:only-of-type {\n",
       "        vertical-align: middle;\n",
       "    }\n",
       "\n",
       "    .dataframe tbody tr th {\n",
       "        vertical-align: top;\n",
       "    }\n",
       "\n",
       "    .dataframe thead th {\n",
       "        text-align: right;\n",
       "    }\n",
       "</style>\n",
       "<table border=\"1\" class=\"dataframe\">\n",
       "  <thead>\n",
       "    <tr style=\"text-align: right;\">\n",
       "      <th></th>\n",
       "      <th>number_of_elements</th>\n",
       "      <th>mean_atomic_mass</th>\n",
       "      <th>wtd_mean_atomic_mass</th>\n",
       "      <th>gmean_atomic_mass</th>\n",
       "      <th>wtd_gmean_atomic_mass</th>\n",
       "      <th>entropy_atomic_mass</th>\n",
       "      <th>wtd_entropy_atomic_mass</th>\n",
       "      <th>range_atomic_mass</th>\n",
       "      <th>wtd_range_atomic_mass</th>\n",
       "      <th>std_atomic_mass</th>\n",
       "      <th>...</th>\n",
       "      <th>wtd_mean_Valence</th>\n",
       "      <th>gmean_Valence</th>\n",
       "      <th>wtd_gmean_Valence</th>\n",
       "      <th>entropy_Valence</th>\n",
       "      <th>wtd_entropy_Valence</th>\n",
       "      <th>range_Valence</th>\n",
       "      <th>wtd_range_Valence</th>\n",
       "      <th>std_Valence</th>\n",
       "      <th>wtd_std_Valence</th>\n",
       "      <th>critical_temp</th>\n",
       "    </tr>\n",
       "  </thead>\n",
       "  <tbody>\n",
       "    <tr>\n",
       "      <th>0</th>\n",
       "      <td>4</td>\n",
       "      <td>88.944468</td>\n",
       "      <td>57.862692</td>\n",
       "      <td>66.361592</td>\n",
       "      <td>36.116612</td>\n",
       "      <td>1.181795</td>\n",
       "      <td>1.062396</td>\n",
       "      <td>122.90607</td>\n",
       "      <td>31.794921</td>\n",
       "      <td>51.968828</td>\n",
       "      <td>...</td>\n",
       "      <td>2.257143</td>\n",
       "      <td>2.213364</td>\n",
       "      <td>2.219783</td>\n",
       "      <td>1.368922</td>\n",
       "      <td>1.066221</td>\n",
       "      <td>1</td>\n",
       "      <td>1.085714</td>\n",
       "      <td>0.433013</td>\n",
       "      <td>0.437059</td>\n",
       "      <td>29.0</td>\n",
       "    </tr>\n",
       "    <tr>\n",
       "      <th>1</th>\n",
       "      <td>5</td>\n",
       "      <td>92.729214</td>\n",
       "      <td>58.518416</td>\n",
       "      <td>73.132787</td>\n",
       "      <td>36.396602</td>\n",
       "      <td>1.449309</td>\n",
       "      <td>1.057755</td>\n",
       "      <td>122.90607</td>\n",
       "      <td>36.161939</td>\n",
       "      <td>47.094633</td>\n",
       "      <td>...</td>\n",
       "      <td>2.257143</td>\n",
       "      <td>1.888175</td>\n",
       "      <td>2.210679</td>\n",
       "      <td>1.557113</td>\n",
       "      <td>1.047221</td>\n",
       "      <td>2</td>\n",
       "      <td>1.128571</td>\n",
       "      <td>0.632456</td>\n",
       "      <td>0.468606</td>\n",
       "      <td>26.0</td>\n",
       "    </tr>\n",
       "    <tr>\n",
       "      <th>2</th>\n",
       "      <td>4</td>\n",
       "      <td>88.944468</td>\n",
       "      <td>57.885242</td>\n",
       "      <td>66.361592</td>\n",
       "      <td>36.122509</td>\n",
       "      <td>1.181795</td>\n",
       "      <td>0.975980</td>\n",
       "      <td>122.90607</td>\n",
       "      <td>35.741099</td>\n",
       "      <td>51.968828</td>\n",
       "      <td>...</td>\n",
       "      <td>2.271429</td>\n",
       "      <td>2.213364</td>\n",
       "      <td>2.232679</td>\n",
       "      <td>1.368922</td>\n",
       "      <td>1.029175</td>\n",
       "      <td>1</td>\n",
       "      <td>1.114286</td>\n",
       "      <td>0.433013</td>\n",
       "      <td>0.444697</td>\n",
       "      <td>19.0</td>\n",
       "    </tr>\n",
       "    <tr>\n",
       "      <th>3</th>\n",
       "      <td>4</td>\n",
       "      <td>88.944468</td>\n",
       "      <td>57.873967</td>\n",
       "      <td>66.361592</td>\n",
       "      <td>36.119560</td>\n",
       "      <td>1.181795</td>\n",
       "      <td>1.022291</td>\n",
       "      <td>122.90607</td>\n",
       "      <td>33.768010</td>\n",
       "      <td>51.968828</td>\n",
       "      <td>...</td>\n",
       "      <td>2.264286</td>\n",
       "      <td>2.213364</td>\n",
       "      <td>2.226222</td>\n",
       "      <td>1.368922</td>\n",
       "      <td>1.048834</td>\n",
       "      <td>1</td>\n",
       "      <td>1.100000</td>\n",
       "      <td>0.433013</td>\n",
       "      <td>0.440952</td>\n",
       "      <td>22.0</td>\n",
       "    </tr>\n",
       "    <tr>\n",
       "      <th>4</th>\n",
       "      <td>4</td>\n",
       "      <td>88.944468</td>\n",
       "      <td>57.840143</td>\n",
       "      <td>66.361592</td>\n",
       "      <td>36.110716</td>\n",
       "      <td>1.181795</td>\n",
       "      <td>1.129224</td>\n",
       "      <td>122.90607</td>\n",
       "      <td>27.848743</td>\n",
       "      <td>51.968828</td>\n",
       "      <td>...</td>\n",
       "      <td>2.242857</td>\n",
       "      <td>2.213364</td>\n",
       "      <td>2.206963</td>\n",
       "      <td>1.368922</td>\n",
       "      <td>1.096052</td>\n",
       "      <td>1</td>\n",
       "      <td>1.057143</td>\n",
       "      <td>0.433013</td>\n",
       "      <td>0.428809</td>\n",
       "      <td>23.0</td>\n",
       "    </tr>\n",
       "  </tbody>\n",
       "</table>\n",
       "<p>5 rows × 82 columns</p>\n",
       "</div>"
      ],
      "text/plain": [
       "   number_of_elements  mean_atomic_mass  wtd_mean_atomic_mass  \\\n",
       "0                   4         88.944468             57.862692   \n",
       "1                   5         92.729214             58.518416   \n",
       "2                   4         88.944468             57.885242   \n",
       "3                   4         88.944468             57.873967   \n",
       "4                   4         88.944468             57.840143   \n",
       "\n",
       "   gmean_atomic_mass  wtd_gmean_atomic_mass  entropy_atomic_mass  \\\n",
       "0          66.361592              36.116612             1.181795   \n",
       "1          73.132787              36.396602             1.449309   \n",
       "2          66.361592              36.122509             1.181795   \n",
       "3          66.361592              36.119560             1.181795   \n",
       "4          66.361592              36.110716             1.181795   \n",
       "\n",
       "   wtd_entropy_atomic_mass  range_atomic_mass  wtd_range_atomic_mass  \\\n",
       "0                 1.062396          122.90607              31.794921   \n",
       "1                 1.057755          122.90607              36.161939   \n",
       "2                 0.975980          122.90607              35.741099   \n",
       "3                 1.022291          122.90607              33.768010   \n",
       "4                 1.129224          122.90607              27.848743   \n",
       "\n",
       "   std_atomic_mass  ...  wtd_mean_Valence  gmean_Valence  wtd_gmean_Valence  \\\n",
       "0        51.968828  ...          2.257143       2.213364           2.219783   \n",
       "1        47.094633  ...          2.257143       1.888175           2.210679   \n",
       "2        51.968828  ...          2.271429       2.213364           2.232679   \n",
       "3        51.968828  ...          2.264286       2.213364           2.226222   \n",
       "4        51.968828  ...          2.242857       2.213364           2.206963   \n",
       "\n",
       "   entropy_Valence  wtd_entropy_Valence  range_Valence  wtd_range_Valence  \\\n",
       "0         1.368922             1.066221              1           1.085714   \n",
       "1         1.557113             1.047221              2           1.128571   \n",
       "2         1.368922             1.029175              1           1.114286   \n",
       "3         1.368922             1.048834              1           1.100000   \n",
       "4         1.368922             1.096052              1           1.057143   \n",
       "\n",
       "   std_Valence  wtd_std_Valence  critical_temp  \n",
       "0     0.433013         0.437059           29.0  \n",
       "1     0.632456         0.468606           26.0  \n",
       "2     0.433013         0.444697           19.0  \n",
       "3     0.433013         0.440952           22.0  \n",
       "4     0.433013         0.428809           23.0  \n",
       "\n",
       "[5 rows x 82 columns]"
      ]
     },
     "execution_count": 3,
     "metadata": {},
     "output_type": "execute_result"
    }
   ],
   "source": [
    "data.head()"
   ]
  },
  {
   "cell_type": "code",
   "execution_count": 4,
   "id": "interesting-mauritius",
   "metadata": {
    "execution": {
     "iopub.execute_input": "2022-08-24T22:28:09.645519Z",
     "iopub.status.busy": "2022-08-24T22:28:09.644790Z",
     "iopub.status.idle": "2022-08-24T22:28:09.674866Z",
     "shell.execute_reply": "2022-08-24T22:28:09.675678Z",
     "shell.execute_reply.started": "2021-07-05T12:52:58.626671Z"
    },
    "papermill": {
     "duration": 0.061946,
     "end_time": "2022-08-24T22:28:09.675942",
     "exception": false,
     "start_time": "2022-08-24T22:28:09.613996",
     "status": "completed"
    },
    "tags": []
   },
   "outputs": [
    {
     "name": "stdout",
     "output_type": "stream",
     "text": [
      "<class 'pandas.core.frame.DataFrame'>\n",
      "RangeIndex: 21263 entries, 0 to 21262\n",
      "Data columns (total 82 columns):\n",
      " #   Column                           Non-Null Count  Dtype  \n",
      "---  ------                           --------------  -----  \n",
      " 0   number_of_elements               21263 non-null  int64  \n",
      " 1   mean_atomic_mass                 21263 non-null  float64\n",
      " 2   wtd_mean_atomic_mass             21263 non-null  float64\n",
      " 3   gmean_atomic_mass                21263 non-null  float64\n",
      " 4   wtd_gmean_atomic_mass            21263 non-null  float64\n",
      " 5   entropy_atomic_mass              21263 non-null  float64\n",
      " 6   wtd_entropy_atomic_mass          21263 non-null  float64\n",
      " 7   range_atomic_mass                21263 non-null  float64\n",
      " 8   wtd_range_atomic_mass            21263 non-null  float64\n",
      " 9   std_atomic_mass                  21263 non-null  float64\n",
      " 10  wtd_std_atomic_mass              21263 non-null  float64\n",
      " 11  mean_fie                         21263 non-null  float64\n",
      " 12  wtd_mean_fie                     21263 non-null  float64\n",
      " 13  gmean_fie                        21263 non-null  float64\n",
      " 14  wtd_gmean_fie                    21263 non-null  float64\n",
      " 15  entropy_fie                      21263 non-null  float64\n",
      " 16  wtd_entropy_fie                  21263 non-null  float64\n",
      " 17  range_fie                        21263 non-null  float64\n",
      " 18  wtd_range_fie                    21263 non-null  float64\n",
      " 19  std_fie                          21263 non-null  float64\n",
      " 20  wtd_std_fie                      21263 non-null  float64\n",
      " 21  mean_atomic_radius               21263 non-null  float64\n",
      " 22  wtd_mean_atomic_radius           21263 non-null  float64\n",
      " 23  gmean_atomic_radius              21263 non-null  float64\n",
      " 24  wtd_gmean_atomic_radius          21263 non-null  float64\n",
      " 25  entropy_atomic_radius            21263 non-null  float64\n",
      " 26  wtd_entropy_atomic_radius        21263 non-null  float64\n",
      " 27  range_atomic_radius              21263 non-null  int64  \n",
      " 28  wtd_range_atomic_radius          21263 non-null  float64\n",
      " 29  std_atomic_radius                21263 non-null  float64\n",
      " 30  wtd_std_atomic_radius            21263 non-null  float64\n",
      " 31  mean_Density                     21263 non-null  float64\n",
      " 32  wtd_mean_Density                 21263 non-null  float64\n",
      " 33  gmean_Density                    21263 non-null  float64\n",
      " 34  wtd_gmean_Density                21263 non-null  float64\n",
      " 35  entropy_Density                  21263 non-null  float64\n",
      " 36  wtd_entropy_Density              21263 non-null  float64\n",
      " 37  range_Density                    21263 non-null  float64\n",
      " 38  wtd_range_Density                21263 non-null  float64\n",
      " 39  std_Density                      21263 non-null  float64\n",
      " 40  wtd_std_Density                  21263 non-null  float64\n",
      " 41  mean_ElectronAffinity            21263 non-null  float64\n",
      " 42  wtd_mean_ElectronAffinity        21263 non-null  float64\n",
      " 43  gmean_ElectronAffinity           21263 non-null  float64\n",
      " 44  wtd_gmean_ElectronAffinity       21263 non-null  float64\n",
      " 45  entropy_ElectronAffinity         21263 non-null  float64\n",
      " 46  wtd_entropy_ElectronAffinity     21263 non-null  float64\n",
      " 47  range_ElectronAffinity           21263 non-null  float64\n",
      " 48  wtd_range_ElectronAffinity       21263 non-null  float64\n",
      " 49  std_ElectronAffinity             21263 non-null  float64\n",
      " 50  wtd_std_ElectronAffinity         21263 non-null  float64\n",
      " 51  mean_FusionHeat                  21263 non-null  float64\n",
      " 52  wtd_mean_FusionHeat              21263 non-null  float64\n",
      " 53  gmean_FusionHeat                 21263 non-null  float64\n",
      " 54  wtd_gmean_FusionHeat             21263 non-null  float64\n",
      " 55  entropy_FusionHeat               21263 non-null  float64\n",
      " 56  wtd_entropy_FusionHeat           21263 non-null  float64\n",
      " 57  range_FusionHeat                 21263 non-null  float64\n",
      " 58  wtd_range_FusionHeat             21263 non-null  float64\n",
      " 59  std_FusionHeat                   21263 non-null  float64\n",
      " 60  wtd_std_FusionHeat               21263 non-null  float64\n",
      " 61  mean_ThermalConductivity         21263 non-null  float64\n",
      " 62  wtd_mean_ThermalConductivity     21263 non-null  float64\n",
      " 63  gmean_ThermalConductivity        21263 non-null  float64\n",
      " 64  wtd_gmean_ThermalConductivity    21263 non-null  float64\n",
      " 65  entropy_ThermalConductivity      21263 non-null  float64\n",
      " 66  wtd_entropy_ThermalConductivity  21263 non-null  float64\n",
      " 67  range_ThermalConductivity        21263 non-null  float64\n",
      " 68  wtd_range_ThermalConductivity    21263 non-null  float64\n",
      " 69  std_ThermalConductivity          21263 non-null  float64\n",
      " 70  wtd_std_ThermalConductivity      21263 non-null  float64\n",
      " 71  mean_Valence                     21263 non-null  float64\n",
      " 72  wtd_mean_Valence                 21263 non-null  float64\n",
      " 73  gmean_Valence                    21263 non-null  float64\n",
      " 74  wtd_gmean_Valence                21263 non-null  float64\n",
      " 75  entropy_Valence                  21263 non-null  float64\n",
      " 76  wtd_entropy_Valence              21263 non-null  float64\n",
      " 77  range_Valence                    21263 non-null  int64  \n",
      " 78  wtd_range_Valence                21263 non-null  float64\n",
      " 79  std_Valence                      21263 non-null  float64\n",
      " 80  wtd_std_Valence                  21263 non-null  float64\n",
      " 81  critical_temp                    21263 non-null  float64\n",
      "dtypes: float64(79), int64(3)\n",
      "memory usage: 13.3 MB\n"
     ]
    }
   ],
   "source": [
    "data.info()"
   ]
  },
  {
   "cell_type": "markdown",
   "id": "authorized-characteristic",
   "metadata": {
    "papermill": {
     "duration": 0.023122,
     "end_time": "2022-08-24T22:28:09.723871",
     "exception": false,
     "start_time": "2022-08-24T22:28:09.700749",
     "status": "completed"
    },
    "tags": []
   },
   "source": [
    "Except for number_of_elements and critical temperature; all of the variables are derived using highly correlated mathematical functions; mean, weighted mean, geometric mean, weighted geometric mean, standard deviation, weighted standard deviation, entropy, weighted entropy, range and weighted range calculations. This can be shown using the correlation matrix.\n"
   ]
  },
  {
   "cell_type": "code",
   "execution_count": 5,
   "id": "insured-worse",
   "metadata": {
    "execution": {
     "iopub.execute_input": "2022-08-24T22:28:09.775192Z",
     "iopub.status.busy": "2022-08-24T22:28:09.774514Z",
     "iopub.status.idle": "2022-08-24T22:28:11.864162Z",
     "shell.execute_reply": "2022-08-24T22:28:11.864934Z",
     "shell.execute_reply.started": "2021-07-05T12:52:58.661613Z"
    },
    "papermill": {
     "duration": 2.117043,
     "end_time": "2022-08-24T22:28:11.865192",
     "exception": false,
     "start_time": "2022-08-24T22:28:09.748149",
     "status": "completed"
    },
    "tags": []
   },
   "outputs": [
    {
     "data": {
      "image/png": "[encoded data removed]",
      "text/plain": [
       "<Figure size 1080x720 with 2 Axes>"
      ]
     },
     "metadata": {
      "needs_background": "light"
     },
     "output_type": "display_data"
    }
   ],
   "source": [
    "# display the correlation matrix\n",
    "plt.figure(figsize=(15,10))\n",
    "sb.heatmap(data.iloc[:,:-1].corr(),cmap='twilight_shifted')\n",
    "plt.show()"
   ]
  },
  {
   "cell_type": "markdown",
   "id": "british-alberta",
   "metadata": {
    "papermill": {
     "duration": 0.031781,
     "end_time": "2022-08-24T22:28:11.932712",
     "exception": false,
     "start_time": "2022-08-24T22:28:11.900931",
     "status": "completed"
    },
    "tags": []
   },
   "source": [
    "Principal Component Analysis (PCA) tends to reduce the dimensions of the data. It focus  on the maximum variance amount to convert correlated variables  into a set of orthogonal - mutually uncorrelated - variables called principal components such that the first principal component accounts for the maximum proportion of the variance of the original dataset, and subsequent orthogonal components account for the maximum  proportion  of  the  remaining  variance.  The process steps of PCA are as follows:    \n",
    "\n",
    "let $Z$ be the standardized input matrix :\n",
    " \n",
    "1. Compute the mean vector of $Z$.  \n",
    "2. Compute the covariance matrix of data.  \n",
    "3. Compute the eigenvalue and eigenvector matrix of covariance matrix, let $E$ be the matrix of eigenvectors.\n",
    "4. Sort the eigenvalues λ₁, λ₂, …, λp from largest to smallest, and then sort the eigenvectors in $E$ accordingly, let $E^*$ be the sorted matrix.\n",
    "5. Form the components using $E^*$ as weighting vector. $Z^* = ZE^*$\n",
    "\n",
    "typically we take the first components explaining at least 90% of the common variation.  \n",
    "\n",
    "PCA technique is sensitive to the scaling of the features since it's based on the covariance matrix, a look at the summary table below shows that there are large differences between the ranges of variables in our dataset, those variables with larger ranges might dominate over those with small ranges , that is the reason why it is critical to perform standardization prior to PCA."
   ]
  },
  {
   "cell_type": "code",
   "execution_count": 6,
   "id": "beginning-inspector",
   "metadata": {
    "execution": {
     "iopub.execute_input": "2022-08-24T22:28:12.007125Z",
     "iopub.status.busy": "2022-08-24T22:28:11.998006Z",
     "iopub.status.idle": "2022-08-24T22:28:12.427865Z",
     "shell.execute_reply": "2022-08-24T22:28:12.427030Z",
     "shell.execute_reply.started": "2021-07-05T12:53:00.703106Z"
    },
    "papermill": {
     "duration": 0.464249,
     "end_time": "2022-08-24T22:28:12.428031",
     "exception": false,
     "start_time": "2022-08-24T22:28:11.963782",
     "status": "completed"
    },
    "tags": []
   },
   "outputs": [
    {
     "data": {
      "text/html": [
       "<div>\n",
       "<style scoped>\n",
       "    .dataframe tbody tr th:only-of-type {\n",
       "        vertical-align: middle;\n",
       "    }\n",
       "\n",
       "    .dataframe tbody tr th {\n",
       "        vertical-align: top;\n",
       "    }\n",
       "\n",
       "    .dataframe thead th {\n",
       "        text-align: right;\n",
       "    }\n",
       "</style>\n",
       "<table border=\"1\" class=\"dataframe\">\n",
       "  <thead>\n",
       "    <tr style=\"text-align: right;\">\n",
       "      <th></th>\n",
       "      <th>number_of_elements</th>\n",
       "      <th>mean_atomic_mass</th>\n",
       "      <th>wtd_mean_atomic_mass</th>\n",
       "      <th>gmean_atomic_mass</th>\n",
       "      <th>wtd_gmean_atomic_mass</th>\n",
       "      <th>entropy_atomic_mass</th>\n",
       "      <th>wtd_entropy_atomic_mass</th>\n",
       "      <th>range_atomic_mass</th>\n",
       "      <th>wtd_range_atomic_mass</th>\n",
       "      <th>std_atomic_mass</th>\n",
       "      <th>...</th>\n",
       "      <th>wtd_mean_Valence</th>\n",
       "      <th>gmean_Valence</th>\n",
       "      <th>wtd_gmean_Valence</th>\n",
       "      <th>entropy_Valence</th>\n",
       "      <th>wtd_entropy_Valence</th>\n",
       "      <th>range_Valence</th>\n",
       "      <th>wtd_range_Valence</th>\n",
       "      <th>std_Valence</th>\n",
       "      <th>wtd_std_Valence</th>\n",
       "      <th>critical_temp</th>\n",
       "    </tr>\n",
       "  </thead>\n",
       "  <tbody>\n",
       "    <tr>\n",
       "      <th>count</th>\n",
       "      <td>21263.000000</td>\n",
       "      <td>21263.000000</td>\n",
       "      <td>21263.000000</td>\n",
       "      <td>21263.000000</td>\n",
       "      <td>21263.000000</td>\n",
       "      <td>21263.000000</td>\n",
       "      <td>21263.000000</td>\n",
       "      <td>21263.000000</td>\n",
       "      <td>21263.000000</td>\n",
       "      <td>21263.000000</td>\n",
       "      <td>...</td>\n",
       "      <td>21263.000000</td>\n",
       "      <td>21263.000000</td>\n",
       "      <td>21263.000000</td>\n",
       "      <td>21263.000000</td>\n",
       "      <td>21263.000000</td>\n",
       "      <td>21263.000000</td>\n",
       "      <td>21263.000000</td>\n",
       "      <td>21263.000000</td>\n",
       "      <td>21263.000000</td>\n",
       "      <td>21263.000000</td>\n",
       "    </tr>\n",
       "    <tr>\n",
       "      <th>mean</th>\n",
       "      <td>4.115224</td>\n",
       "      <td>87.557631</td>\n",
       "      <td>72.988310</td>\n",
       "      <td>71.290627</td>\n",
       "      <td>58.539916</td>\n",
       "      <td>1.165608</td>\n",
       "      <td>1.063884</td>\n",
       "      <td>115.601251</td>\n",
       "      <td>33.225218</td>\n",
       "      <td>44.391893</td>\n",
       "      <td>...</td>\n",
       "      <td>3.153127</td>\n",
       "      <td>3.056536</td>\n",
       "      <td>3.055885</td>\n",
       "      <td>1.295682</td>\n",
       "      <td>1.052841</td>\n",
       "      <td>2.041010</td>\n",
       "      <td>1.483007</td>\n",
       "      <td>0.839342</td>\n",
       "      <td>0.673987</td>\n",
       "      <td>34.421219</td>\n",
       "    </tr>\n",
       "    <tr>\n",
       "      <th>std</th>\n",
       "      <td>1.439295</td>\n",
       "      <td>29.676497</td>\n",
       "      <td>33.490406</td>\n",
       "      <td>31.030272</td>\n",
       "      <td>36.651067</td>\n",
       "      <td>0.364930</td>\n",
       "      <td>0.401423</td>\n",
       "      <td>54.626887</td>\n",
       "      <td>26.967752</td>\n",
       "      <td>20.035430</td>\n",
       "      <td>...</td>\n",
       "      <td>1.191249</td>\n",
       "      <td>1.046257</td>\n",
       "      <td>1.174815</td>\n",
       "      <td>0.393155</td>\n",
       "      <td>0.380291</td>\n",
       "      <td>1.242345</td>\n",
       "      <td>0.978176</td>\n",
       "      <td>0.484676</td>\n",
       "      <td>0.455580</td>\n",
       "      <td>34.254362</td>\n",
       "    </tr>\n",
       "    <tr>\n",
       "      <th>min</th>\n",
       "      <td>1.000000</td>\n",
       "      <td>6.941000</td>\n",
       "      <td>6.423452</td>\n",
       "      <td>5.320573</td>\n",
       "      <td>1.960849</td>\n",
       "      <td>0.000000</td>\n",
       "      <td>0.000000</td>\n",
       "      <td>0.000000</td>\n",
       "      <td>0.000000</td>\n",
       "      <td>0.000000</td>\n",
       "      <td>...</td>\n",
       "      <td>1.000000</td>\n",
       "      <td>1.000000</td>\n",
       "      <td>1.000000</td>\n",
       "      <td>0.000000</td>\n",
       "      <td>0.000000</td>\n",
       "      <td>0.000000</td>\n",
       "      <td>0.000000</td>\n",
       "      <td>0.000000</td>\n",
       "      <td>0.000000</td>\n",
       "      <td>0.000210</td>\n",
       "    </tr>\n",
       "    <tr>\n",
       "      <th>25%</th>\n",
       "      <td>3.000000</td>\n",
       "      <td>72.458076</td>\n",
       "      <td>52.143839</td>\n",
       "      <td>58.041225</td>\n",
       "      <td>35.248990</td>\n",
       "      <td>0.966676</td>\n",
       "      <td>0.775363</td>\n",
       "      <td>78.512902</td>\n",
       "      <td>16.824174</td>\n",
       "      <td>32.890369</td>\n",
       "      <td>...</td>\n",
       "      <td>2.116732</td>\n",
       "      <td>2.279705</td>\n",
       "      <td>2.091251</td>\n",
       "      <td>1.060857</td>\n",
       "      <td>0.775678</td>\n",
       "      <td>1.000000</td>\n",
       "      <td>0.921454</td>\n",
       "      <td>0.451754</td>\n",
       "      <td>0.306892</td>\n",
       "      <td>5.365000</td>\n",
       "    </tr>\n",
       "    <tr>\n",
       "      <th>50%</th>\n",
       "      <td>4.000000</td>\n",
       "      <td>84.922750</td>\n",
       "      <td>60.696571</td>\n",
       "      <td>66.361592</td>\n",
       "      <td>39.918385</td>\n",
       "      <td>1.199541</td>\n",
       "      <td>1.146783</td>\n",
       "      <td>122.906070</td>\n",
       "      <td>26.636008</td>\n",
       "      <td>45.123500</td>\n",
       "      <td>...</td>\n",
       "      <td>2.618182</td>\n",
       "      <td>2.615321</td>\n",
       "      <td>2.434057</td>\n",
       "      <td>1.368922</td>\n",
       "      <td>1.166532</td>\n",
       "      <td>2.000000</td>\n",
       "      <td>1.063077</td>\n",
       "      <td>0.800000</td>\n",
       "      <td>0.500000</td>\n",
       "      <td>20.000000</td>\n",
       "    </tr>\n",
       "    <tr>\n",
       "      <th>75%</th>\n",
       "      <td>5.000000</td>\n",
       "      <td>100.404410</td>\n",
       "      <td>86.103540</td>\n",
       "      <td>78.116681</td>\n",
       "      <td>73.113234</td>\n",
       "      <td>1.444537</td>\n",
       "      <td>1.359418</td>\n",
       "      <td>154.119320</td>\n",
       "      <td>38.356908</td>\n",
       "      <td>59.322812</td>\n",
       "      <td>...</td>\n",
       "      <td>4.026201</td>\n",
       "      <td>3.727919</td>\n",
       "      <td>3.914868</td>\n",
       "      <td>1.589027</td>\n",
       "      <td>1.330801</td>\n",
       "      <td>3.000000</td>\n",
       "      <td>1.918400</td>\n",
       "      <td>1.200000</td>\n",
       "      <td>1.020436</td>\n",
       "      <td>63.000000</td>\n",
       "    </tr>\n",
       "    <tr>\n",
       "      <th>max</th>\n",
       "      <td>9.000000</td>\n",
       "      <td>208.980400</td>\n",
       "      <td>208.980400</td>\n",
       "      <td>208.980400</td>\n",
       "      <td>208.980400</td>\n",
       "      <td>1.983797</td>\n",
       "      <td>1.958203</td>\n",
       "      <td>207.972460</td>\n",
       "      <td>205.589910</td>\n",
       "      <td>101.019700</td>\n",
       "      <td>...</td>\n",
       "      <td>7.000000</td>\n",
       "      <td>7.000000</td>\n",
       "      <td>7.000000</td>\n",
       "      <td>2.141963</td>\n",
       "      <td>1.949739</td>\n",
       "      <td>6.000000</td>\n",
       "      <td>6.992200</td>\n",
       "      <td>3.000000</td>\n",
       "      <td>3.000000</td>\n",
       "      <td>185.000000</td>\n",
       "    </tr>\n",
       "  </tbody>\n",
       "</table>\n",
       "<p>8 rows × 82 columns</p>\n",
       "</div>"
      ],
      "text/plain": [
       "       number_of_elements  mean_atomic_mass  wtd_mean_atomic_mass  \\\n",
       "count        21263.000000      21263.000000          21263.000000   \n",
       "mean             4.115224         87.557631             72.988310   \n",
       "std              1.439295         29.676497             33.490406   \n",
       "min              1.000000          6.941000              6.423452   \n",
       "25%              3.000000         72.458076             52.143839   \n",
       "50%              4.000000         84.922750             60.696571   \n",
       "75%              5.000000        100.404410             86.103540   \n",
       "max              9.000000        208.980400            208.980400   \n",
       "\n",
       "       gmean_atomic_mass  wtd_gmean_atomic_mass  entropy_atomic_mass  \\\n",
       "count       21263.000000           21263.000000         21263.000000   \n",
       "mean           71.290627              58.539916             1.165608   \n",
       "std            31.030272              36.651067             0.364930   \n",
       "min             5.320573               1.960849             0.000000   \n",
       "25%            58.041225              35.248990             0.966676   \n",
       "50%            66.361592              39.918385             1.199541   \n",
       "75%            78.116681              73.113234             1.444537   \n",
       "max           208.980400             208.980400             1.983797   \n",
       "\n",
       "       wtd_entropy_atomic_mass  range_atomic_mass  wtd_range_atomic_mass  \\\n",
       "count             21263.000000       21263.000000           21263.000000   \n",
       "mean                  1.063884         115.601251              33.225218   \n",
       "std                   0.401423          54.626887              26.967752   \n",
       "min                   0.000000           0.000000               0.000000   \n",
       "25%                   0.775363          78.512902              16.824174   \n",
       "50%                   1.146783         122.906070              26.636008   \n",
       "75%                   1.359418         154.119320              38.356908   \n",
       "max                   1.958203         207.972460             205.589910   \n",
       "\n",
       "       std_atomic_mass  ...  wtd_mean_Valence  gmean_Valence  \\\n",
       "count     21263.000000  ...      21263.000000   21263.000000   \n",
       "mean         44.391893  ...          3.153127       3.056536   \n",
       "std          20.035430  ...          1.191249       1.046257   \n",
       "min           0.000000  ...          1.000000       1.000000   \n",
       "25%          32.890369  ...          2.116732       2.279705   \n",
       "50%          45.123500  ...          2.618182       2.615321   \n",
       "75%          59.322812  ...          4.026201       3.727919   \n",
       "max         101.019700  ...          7.000000       7.000000   \n",
       "\n",
       "       wtd_gmean_Valence  entropy_Valence  wtd_entropy_Valence  range_Valence  \\\n",
       "count       21263.000000     21263.000000         21263.000000   21263.000000   \n",
       "mean            3.055885         1.295682             1.052841       2.041010   \n",
       "std             1.174815         0.393155             0.380291       1.242345   \n",
       "min             1.000000         0.000000             0.000000       0.000000   \n",
       "25%             2.091251         1.060857             0.775678       1.000000   \n",
       "50%             2.434057         1.368922             1.166532       2.000000   \n",
       "75%             3.914868         1.589027             1.330801       3.000000   \n",
       "max             7.000000         2.141963             1.949739       6.000000   \n",
       "\n",
       "       wtd_range_Valence   std_Valence  wtd_std_Valence  critical_temp  \n",
       "count       21263.000000  21263.000000     21263.000000   21263.000000  \n",
       "mean            1.483007      0.839342         0.673987      34.421219  \n",
       "std             0.978176      0.484676         0.455580      34.254362  \n",
       "min             0.000000      0.000000         0.000000       0.000210  \n",
       "25%             0.921454      0.451754         0.306892       5.365000  \n",
       "50%             1.063077      0.800000         0.500000      20.000000  \n",
       "75%             1.918400      1.200000         1.020436      63.000000  \n",
       "max             6.992200      3.000000         3.000000     185.000000  \n",
       "\n",
       "[8 rows x 82 columns]"
      ]
     },
     "execution_count": 6,
     "metadata": {},
     "output_type": "execute_result"
    }
   ],
   "source": [
    "data.describe()"
   ]
  },
  {
   "cell_type": "markdown",
   "id": "vietnamese-alexander",
   "metadata": {
    "papermill": {
     "duration": 0.030653,
     "end_time": "2022-08-24T22:28:12.490355",
     "exception": false,
     "start_time": "2022-08-24T22:28:12.459702",
     "status": "completed"
    },
    "tags": []
   },
   "source": [
    "### features scaling\n"
   ]
  },
  {
   "cell_type": "code",
   "execution_count": 7,
   "id": "optical-nebraska",
   "metadata": {
    "execution": {
     "iopub.execute_input": "2022-08-24T22:28:12.559053Z",
     "iopub.status.busy": "2022-08-24T22:28:12.558031Z",
     "iopub.status.idle": "2022-08-24T22:28:12.585168Z",
     "shell.execute_reply": "2022-08-24T22:28:12.585757Z",
     "shell.execute_reply.started": "2021-07-05T12:53:13.474157Z"
    },
    "papermill": {
     "duration": 0.063796,
     "end_time": "2022-08-24T22:28:12.585976",
     "exception": false,
     "start_time": "2022-08-24T22:28:12.522180",
     "status": "completed"
    },
    "tags": []
   },
   "outputs": [],
   "source": [
    "# split  dataset into test and train\n",
    "x = data.iloc[:, :-1]\n",
    "y = data.iloc[:, -1] \n",
    "x_train, x_test, y_train, y_test=train_test_split(x,y,test_size=0.1) "
   ]
  },
  {
   "cell_type": "code",
   "execution_count": 8,
   "id": "patent-marsh",
   "metadata": {
    "execution": {
     "iopub.execute_input": "2022-08-24T22:28:12.658339Z",
     "iopub.status.busy": "2022-08-24T22:28:12.656372Z",
     "iopub.status.idle": "2022-08-24T22:28:12.686978Z",
     "shell.execute_reply": "2022-08-24T22:28:12.687815Z",
     "shell.execute_reply.started": "2021-07-05T12:53:19.189314Z"
    },
    "papermill": {
     "duration": 0.07204,
     "end_time": "2022-08-24T22:28:12.688020",
     "exception": false,
     "start_time": "2022-08-24T22:28:12.615980",
     "status": "completed"
    },
    "tags": []
   },
   "outputs": [],
   "source": [
    "scalerx = MinMaxScaler()\n",
    "x_train = scalerx.fit_transform(x_train)\n",
    "x_test = scalerx.transform(x_test)\n",
    "#scalery = MinMaxScaler()\n",
    "#y_train = scalery.fit_transform(np.array(y_train).reshape(-1, 1))"
   ]
  },
  {
   "cell_type": "markdown",
   "id": "rental-nitrogen",
   "metadata": {
    "papermill": {
     "duration": 0.03282,
     "end_time": "2022-08-24T22:28:12.752858",
     "exception": false,
     "start_time": "2022-08-24T22:28:12.720038",
     "status": "completed"
    },
    "tags": []
   },
   "source": [
    "### PCA application"
   ]
  },
  {
   "cell_type": "code",
   "execution_count": 9,
   "id": "accepting-attribute",
   "metadata": {
    "execution": {
     "iopub.execute_input": "2022-08-24T22:28:12.822410Z",
     "iopub.status.busy": "2022-08-24T22:28:12.821285Z",
     "iopub.status.idle": "2022-08-24T22:28:13.190317Z",
     "shell.execute_reply": "2022-08-24T22:28:13.191729Z",
     "shell.execute_reply.started": "2021-07-05T12:53:20.175141Z"
    },
    "papermill": {
     "duration": 0.406981,
     "end_time": "2022-08-24T22:28:13.192125",
     "exception": false,
     "start_time": "2022-08-24T22:28:12.785144",
     "status": "completed"
    },
    "tags": []
   },
   "outputs": [
    {
     "data": {
      "text/plain": [
       "PCA(n_components=30)"
      ]
     },
     "execution_count": 9,
     "metadata": {},
     "output_type": "execute_result"
    }
   ],
   "source": [
    "pca = PCA(n_components = 30)\n",
    "pca.fit(x_train)"
   ]
  },
  {
   "cell_type": "code",
   "execution_count": 10,
   "id": "distributed-scratch",
   "metadata": {
    "execution": {
     "iopub.execute_input": "2022-08-24T22:28:13.319429Z",
     "iopub.status.busy": "2022-08-24T22:28:13.318677Z",
     "iopub.status.idle": "2022-08-24T22:28:13.634508Z",
     "shell.execute_reply": "2022-08-24T22:28:13.633899Z",
     "shell.execute_reply.started": "2021-07-05T12:58:13.843479Z"
    },
    "papermill": {
     "duration": 0.372482,
     "end_time": "2022-08-24T22:28:13.634714",
     "exception": false,
     "start_time": "2022-08-24T22:28:13.262232",
     "status": "completed"
    },
    "tags": []
   },
   "outputs": [
    {
     "data": {
      "image/png": "[encoded data removed]",
      "text/plain": [
       "<Figure size 864x432 with 1 Axes>"
      ]
     },
     "metadata": {
      "needs_background": "light"
     },
     "output_type": "display_data"
    }
   ],
   "source": [
    "plt.rcParams[\"figure.figsize\"] = (12,6)\n",
    "\n",
    "fig, ax = plt.subplots()\n",
    "xi = np.arange(1, 31, step=1)\n",
    "y = np.cumsum(pca.explained_variance_ratio_)\n",
    "\n",
    "plt.ylim(0.0,1.1)\n",
    "plt.plot(xi, y, marker='o', linestyle='--', color='grey')\n",
    "\n",
    "plt.xlabel('Number of Components')\n",
    "plt.xticks(np.arange(0, 31, step=1)) #change from 0-based array index to 1-based human-readable label\n",
    "plt.ylabel('Cumulative variance (%)')\n",
    "plt.title('The number of components needed to explain variance')\n",
    "\n",
    "plt.axhline(y=0.9, color='g', linestyle='-')\n",
    "plt.text(0.5, 0.92, '90% of total variance', color = 'g', fontsize=14)\n",
    "\n",
    "ax.grid(axis='x')\n",
    "plt.show()"
   ]
  },
  {
   "cell_type": "markdown",
   "id": "robust-spain",
   "metadata": {
    "papermill": {
     "duration": 0.033837,
     "end_time": "2022-08-24T22:28:13.704658",
     "exception": false,
     "start_time": "2022-08-24T22:28:13.670821",
     "status": "completed"
    },
    "tags": []
   },
   "source": [
    "This curve quantifies how much of the total 82-dimensional variance is contained within the first 30 components. As we see, the first 10 components contain 90% of the variance, \n",
    "#### one problem here is how to choose the optimal number of components ?\n",
    "that's what we will try to answer using cross validation technique in the next part"
   ]
  },
  {
   "cell_type": "markdown",
   "id": "sapphire-detector",
   "metadata": {
    "papermill": {
     "duration": 0.035016,
     "end_time": "2022-08-24T22:28:13.775221",
     "exception": false,
     "start_time": "2022-08-24T22:28:13.740205",
     "status": "completed"
    },
    "tags": []
   },
   "source": [
    "# 3.Training "
   ]
  },
  {
   "cell_type": "code",
   "execution_count": 11,
   "id": "fourth-bronze",
   "metadata": {
    "execution": {
     "iopub.execute_input": "2022-08-24T22:28:13.850220Z",
     "iopub.status.busy": "2022-08-24T22:28:13.849213Z",
     "iopub.status.idle": "2022-08-24T22:28:13.858980Z",
     "shell.execute_reply": "2022-08-24T22:28:13.859568Z",
     "shell.execute_reply.started": "2021-07-05T12:53:40.508412Z"
    },
    "papermill": {
     "duration": 0.049359,
     "end_time": "2022-08-24T22:28:13.859831",
     "exception": false,
     "start_time": "2022-08-24T22:28:13.810472",
     "status": "completed"
    },
    "tags": []
   },
   "outputs": [],
   "source": [
    "# function returns MAE and MSE of the fitted model\n",
    "# for each number of components between 1 and 20 using cross validation\n",
    "def cross_validation(model,x_train,y_train):\n",
    "    mae=[]\n",
    "    mse=[]\n",
    "    for n in range(1,31):\n",
    "        pca = PCA(n_components = n)\n",
    "        pca.fit(x_train)\n",
    "        x_train_pca = pca.transform(x_train)\n",
    "        scores = cross_validate(model, x_train_pca,y_train, scoring=(\"neg_mean_squared_error\", \"neg_mean_absolute_error\"), cv=10)\n",
    "        mse.append(-scores['test_neg_mean_squared_error'].mean())\n",
    "        mae.append(-scores['test_neg_mean_absolute_error'].mean())\n",
    "    d = {'number of components': list(range(1,31)),'mae':mae,'mse':mse}\n",
    "    # plot mae and mse\n",
    "    fig, (ax1, ax2) = plt.subplots(2, 1)\n",
    "    ax1.plot(range(1,31),mae, marker='o')\n",
    "    ax1.title.set_text('cv-MAE vs number of PCA components')\n",
    "    ax1.xaxis.set_major_locator(MaxNLocator(integer=True))\n",
    "    ax2.plot(range(1,31), mse, marker='o' )\n",
    "    ax2.title.set_text('cv-MSE vs number of PCA components')\n",
    "    ax2.xaxis.set_major_locator(MaxNLocator(integer=True))\n",
    "\n",
    "    return pd.DataFrame(d)\n",
    "    \n"
   ]
  },
  {
   "cell_type": "code",
   "execution_count": 12,
   "id": "freelance-genetics",
   "metadata": {
    "execution": {
     "iopub.execute_input": "2022-08-24T22:28:13.933781Z",
     "iopub.status.busy": "2022-08-24T22:28:13.933022Z",
     "iopub.status.idle": "2022-08-24T22:30:26.876604Z",
     "shell.execute_reply": "2022-08-24T22:30:26.875412Z",
     "shell.execute_reply.started": "2021-07-05T12:53:47.989795Z"
    },
    "papermill": {
     "duration": 132.981761,
     "end_time": "2022-08-24T22:30:26.876809",
     "exception": false,
     "start_time": "2022-08-24T22:28:13.895048",
     "status": "completed"
    },
    "tags": []
   },
   "outputs": [
    {
     "data": {
      "text/html": [
       "<div>\n",
       "<style scoped>\n",
       "    .dataframe tbody tr th:only-of-type {\n",
       "        vertical-align: middle;\n",
       "    }\n",
       "\n",
       "    .dataframe tbody tr th {\n",
       "        vertical-align: top;\n",
       "    }\n",
       "\n",
       "    .dataframe thead th {\n",
       "        text-align: right;\n",
       "    }\n",
       "</style>\n",
       "<table border=\"1\" class=\"dataframe\">\n",
       "  <thead>\n",
       "    <tr style=\"text-align: right;\">\n",
       "      <th></th>\n",
       "      <th>number of components</th>\n",
       "      <th>mae</th>\n",
       "      <th>mse</th>\n",
       "    </tr>\n",
       "  </thead>\n",
       "  <tbody>\n",
       "    <tr>\n",
       "      <th>0</th>\n",
       "      <td>1</td>\n",
       "      <td>14.273928</td>\n",
       "      <td>594.601589</td>\n",
       "    </tr>\n",
       "    <tr>\n",
       "      <th>1</th>\n",
       "      <td>2</td>\n",
       "      <td>10.687302</td>\n",
       "      <td>392.304391</td>\n",
       "    </tr>\n",
       "    <tr>\n",
       "      <th>2</th>\n",
       "      <td>3</td>\n",
       "      <td>8.553101</td>\n",
       "      <td>272.273015</td>\n",
       "    </tr>\n",
       "    <tr>\n",
       "      <th>3</th>\n",
       "      <td>4</td>\n",
       "      <td>7.497170</td>\n",
       "      <td>216.650440</td>\n",
       "    </tr>\n",
       "    <tr>\n",
       "      <th>4</th>\n",
       "      <td>5</td>\n",
       "      <td>7.024803</td>\n",
       "      <td>187.764444</td>\n",
       "    </tr>\n",
       "    <tr>\n",
       "      <th>5</th>\n",
       "      <td>6</td>\n",
       "      <td>6.894782</td>\n",
       "      <td>179.340248</td>\n",
       "    </tr>\n",
       "    <tr>\n",
       "      <th>6</th>\n",
       "      <td>7</td>\n",
       "      <td>6.846662</td>\n",
       "      <td>177.592112</td>\n",
       "    </tr>\n",
       "    <tr>\n",
       "      <th>7</th>\n",
       "      <td>8</td>\n",
       "      <td>6.797924</td>\n",
       "      <td>174.429393</td>\n",
       "    </tr>\n",
       "    <tr>\n",
       "      <th>8</th>\n",
       "      <td>9</td>\n",
       "      <td>6.839083</td>\n",
       "      <td>175.711760</td>\n",
       "    </tr>\n",
       "    <tr>\n",
       "      <th>9</th>\n",
       "      <td>10</td>\n",
       "      <td>6.745621</td>\n",
       "      <td>171.822253</td>\n",
       "    </tr>\n",
       "    <tr>\n",
       "      <th>10</th>\n",
       "      <td>11</td>\n",
       "      <td>6.685947</td>\n",
       "      <td>167.919406</td>\n",
       "    </tr>\n",
       "    <tr>\n",
       "      <th>11</th>\n",
       "      <td>12</td>\n",
       "      <td>6.661864</td>\n",
       "      <td>166.591587</td>\n",
       "    </tr>\n",
       "    <tr>\n",
       "      <th>12</th>\n",
       "      <td>13</td>\n",
       "      <td>6.632611</td>\n",
       "      <td>165.491230</td>\n",
       "    </tr>\n",
       "    <tr>\n",
       "      <th>13</th>\n",
       "      <td>14</td>\n",
       "      <td>6.522341</td>\n",
       "      <td>160.007104</td>\n",
       "    </tr>\n",
       "    <tr>\n",
       "      <th>14</th>\n",
       "      <td>15</td>\n",
       "      <td>6.553552</td>\n",
       "      <td>162.684477</td>\n",
       "    </tr>\n",
       "    <tr>\n",
       "      <th>15</th>\n",
       "      <td>16</td>\n",
       "      <td>6.517979</td>\n",
       "      <td>161.609189</td>\n",
       "    </tr>\n",
       "    <tr>\n",
       "      <th>16</th>\n",
       "      <td>17</td>\n",
       "      <td>6.481185</td>\n",
       "      <td>157.238015</td>\n",
       "    </tr>\n",
       "    <tr>\n",
       "      <th>17</th>\n",
       "      <td>18</td>\n",
       "      <td>6.665517</td>\n",
       "      <td>170.751042</td>\n",
       "    </tr>\n",
       "    <tr>\n",
       "      <th>18</th>\n",
       "      <td>19</td>\n",
       "      <td>6.569868</td>\n",
       "      <td>165.715326</td>\n",
       "    </tr>\n",
       "    <tr>\n",
       "      <th>19</th>\n",
       "      <td>20</td>\n",
       "      <td>6.602123</td>\n",
       "      <td>167.631221</td>\n",
       "    </tr>\n",
       "    <tr>\n",
       "      <th>20</th>\n",
       "      <td>21</td>\n",
       "      <td>6.615421</td>\n",
       "      <td>169.533286</td>\n",
       "    </tr>\n",
       "    <tr>\n",
       "      <th>21</th>\n",
       "      <td>22</td>\n",
       "      <td>6.602540</td>\n",
       "      <td>167.756618</td>\n",
       "    </tr>\n",
       "    <tr>\n",
       "      <th>22</th>\n",
       "      <td>23</td>\n",
       "      <td>6.653543</td>\n",
       "      <td>170.998320</td>\n",
       "    </tr>\n",
       "    <tr>\n",
       "      <th>23</th>\n",
       "      <td>24</td>\n",
       "      <td>6.688088</td>\n",
       "      <td>173.224157</td>\n",
       "    </tr>\n",
       "    <tr>\n",
       "      <th>24</th>\n",
       "      <td>25</td>\n",
       "      <td>6.645252</td>\n",
       "      <td>172.162458</td>\n",
       "    </tr>\n",
       "    <tr>\n",
       "      <th>25</th>\n",
       "      <td>26</td>\n",
       "      <td>6.639045</td>\n",
       "      <td>171.524370</td>\n",
       "    </tr>\n",
       "    <tr>\n",
       "      <th>26</th>\n",
       "      <td>27</td>\n",
       "      <td>6.655678</td>\n",
       "      <td>170.089692</td>\n",
       "    </tr>\n",
       "    <tr>\n",
       "      <th>27</th>\n",
       "      <td>28</td>\n",
       "      <td>6.609921</td>\n",
       "      <td>167.682430</td>\n",
       "    </tr>\n",
       "    <tr>\n",
       "      <th>28</th>\n",
       "      <td>29</td>\n",
       "      <td>6.672773</td>\n",
       "      <td>172.826210</td>\n",
       "    </tr>\n",
       "    <tr>\n",
       "      <th>29</th>\n",
       "      <td>30</td>\n",
       "      <td>6.674424</td>\n",
       "      <td>172.015991</td>\n",
       "    </tr>\n",
       "  </tbody>\n",
       "</table>\n",
       "</div>"
      ],
      "text/plain": [
       "    number of components        mae         mse\n",
       "0                      1  14.273928  594.601589\n",
       "1                      2  10.687302  392.304391\n",
       "2                      3   8.553101  272.273015\n",
       "3                      4   7.497170  216.650440\n",
       "4                      5   7.024803  187.764444\n",
       "5                      6   6.894782  179.340248\n",
       "6                      7   6.846662  177.592112\n",
       "7                      8   6.797924  174.429393\n",
       "8                      9   6.839083  175.711760\n",
       "9                     10   6.745621  171.822253\n",
       "10                    11   6.685947  167.919406\n",
       "11                    12   6.661864  166.591587\n",
       "12                    13   6.632611  165.491230\n",
       "13                    14   6.522341  160.007104\n",
       "14                    15   6.553552  162.684477\n",
       "15                    16   6.517979  161.609189\n",
       "16                    17   6.481185  157.238015\n",
       "17                    18   6.665517  170.751042\n",
       "18                    19   6.569868  165.715326\n",
       "19                    20   6.602123  167.631221\n",
       "20                    21   6.615421  169.533286\n",
       "21                    22   6.602540  167.756618\n",
       "22                    23   6.653543  170.998320\n",
       "23                    24   6.688088  173.224157\n",
       "24                    25   6.645252  172.162458\n",
       "25                    26   6.639045  171.524370\n",
       "26                    27   6.655678  170.089692\n",
       "27                    28   6.609921  167.682430\n",
       "28                    29   6.672773  172.826210\n",
       "29                    30   6.674424  172.015991"
      ]
     },
     "execution_count": 12,
     "metadata": {},
     "output_type": "execute_result"
    },
    {
     "data": {
      "image/png": "[encoded data removed]",
      "text/plain": [
       "<Figure size 864x432 with 2 Axes>"
      ]
     },
     "metadata": {
      "needs_background": "light"
     },
     "output_type": "display_data"
    }
   ],
   "source": [
    "regressor = DecisionTreeRegressor()\n",
    "cross_validation(regressor,x_train,y_train)"
   ]
  },
  {
   "cell_type": "markdown",
   "id": "afraid-turkey",
   "metadata": {
    "papermill": {
     "duration": 0.03283,
     "end_time": "2022-08-24T22:30:26.942787",
     "exception": false,
     "start_time": "2022-08-24T22:30:26.909957",
     "status": "completed"
    },
    "tags": []
   },
   "source": [
    "The best lowest cross-validation (MAE,MSE) point occurs when n=10 components which explain almost 90% of the total variance.\n",
    "now we use another cross validation model to choose the best complexity parameter $\\alpha$, but before let's take a look at the range of effective alpha finded by the regressor during the training time"
   ]
  },
  {
   "cell_type": "code",
   "execution_count": 13,
   "id": "second-thunder",
   "metadata": {
    "execution": {
     "iopub.execute_input": "2022-08-24T22:30:27.019048Z",
     "iopub.status.busy": "2022-08-24T22:30:27.017072Z",
     "iopub.status.idle": "2022-08-24T22:30:28.882989Z",
     "shell.execute_reply": "2022-08-24T22:30:28.883551Z",
     "shell.execute_reply.started": "2021-07-05T13:00:09.214406Z"
    },
    "papermill": {
     "duration": 1.907277,
     "end_time": "2022-08-24T22:30:28.883749",
     "exception": false,
     "start_time": "2022-08-24T22:30:26.976472",
     "status": "completed"
    },
    "tags": []
   },
   "outputs": [
    {
     "data": {
      "text/html": [
       "<div>\n",
       "<style scoped>\n",
       "    .dataframe tbody tr th:only-of-type {\n",
       "        vertical-align: middle;\n",
       "    }\n",
       "\n",
       "    .dataframe tbody tr th {\n",
       "        vertical-align: top;\n",
       "    }\n",
       "\n",
       "    .dataframe thead th {\n",
       "        text-align: right;\n",
       "    }\n",
       "</style>\n",
       "<table border=\"1\" class=\"dataframe\">\n",
       "  <thead>\n",
       "    <tr style=\"text-align: right;\">\n",
       "      <th></th>\n",
       "      <th>0</th>\n",
       "    </tr>\n",
       "  </thead>\n",
       "  <tbody>\n",
       "    <tr>\n",
       "      <th>count</th>\n",
       "      <td>1.240500e+04</td>\n",
       "    </tr>\n",
       "    <tr>\n",
       "      <th>mean</th>\n",
       "      <td>8.747198e-02</td>\n",
       "    </tr>\n",
       "    <tr>\n",
       "      <th>std</th>\n",
       "      <td>5.670892e+00</td>\n",
       "    </tr>\n",
       "    <tr>\n",
       "      <th>min</th>\n",
       "      <td>-9.505743e-17</td>\n",
       "    </tr>\n",
       "    <tr>\n",
       "      <th>25%</th>\n",
       "      <td>8.535396e-06</td>\n",
       "    </tr>\n",
       "    <tr>\n",
       "      <th>50%</th>\n",
       "      <td>1.382212e-04</td>\n",
       "    </tr>\n",
       "    <tr>\n",
       "      <th>75%</th>\n",
       "      <td>2.000006e-03</td>\n",
       "    </tr>\n",
       "    <tr>\n",
       "      <th>max</th>\n",
       "      <td>6.225977e+02</td>\n",
       "    </tr>\n",
       "  </tbody>\n",
       "</table>\n",
       "</div>"
      ],
      "text/plain": [
       "                  0\n",
       "count  1.240500e+04\n",
       "mean   8.747198e-02\n",
       "std    5.670892e+00\n",
       "min   -9.505743e-17\n",
       "25%    8.535396e-06\n",
       "50%    1.382212e-04\n",
       "75%    2.000006e-03\n",
       "max    6.225977e+02"
      ]
     },
     "execution_count": 13,
     "metadata": {},
     "output_type": "execute_result"
    }
   ],
   "source": [
    "pca = PCA(n_components = 10)\n",
    "pca.fit(x_train)\n",
    "x_train_pca = pca.transform(x_train)\n",
    "regressor = DecisionTreeRegressor(random_state=0)\n",
    "path = regressor.cost_complexity_pruning_path(x_train_pca, y_train)\n",
    "ccp_alphas=path.ccp_alphas\n",
    "pd.DataFrame(ccp_alphas).describe()"
   ]
  },
  {
   "cell_type": "markdown",
   "id": "detected-minutes",
   "metadata": {
    "papermill": {
     "duration": 0.034329,
     "end_time": "2022-08-24T22:30:28.953314",
     "exception": false,
     "start_time": "2022-08-24T22:30:28.918985",
     "status": "completed"
    },
    "tags": []
   },
   "source": [
    "as we see there is a huge number of values, this means that the tree is very deep and prone to overfitting. Obviously we can not gridsearch them all, but we will select some values( far enough from the extremities ) and look after the best that gives sufficient performance on the test set"
   ]
  },
  {
   "cell_type": "code",
   "execution_count": 14,
   "id": "choice-kidney",
   "metadata": {
    "execution": {
     "iopub.execute_input": "2022-08-24T22:30:29.023771Z",
     "iopub.status.busy": "2022-08-24T22:30:29.022993Z",
     "iopub.status.idle": "2022-08-24T22:34:34.393470Z",
     "shell.execute_reply": "2022-08-24T22:34:34.392850Z",
     "shell.execute_reply.started": "2021-07-05T11:55:10.420896Z"
    },
    "papermill": {
     "duration": 245.406891,
     "end_time": "2022-08-24T22:34:34.393660",
     "exception": false,
     "start_time": "2022-08-24T22:30:28.986769",
     "status": "completed"
    },
    "tags": []
   },
   "outputs": [
    {
     "data": {
      "text/plain": [
       "<matplotlib.legend.Legend at 0x7f36004f2a10>"
      ]
     },
     "execution_count": 14,
     "metadata": {},
     "output_type": "execute_result"
    },
    {
     "data": {
      "image/png": "[encoded data removed]",
      "text/plain": [
       "<Figure size 864x432 with 2 Axes>"
      ]
     },
     "metadata": {
      "needs_background": "light"
     },
     "output_type": "display_data"
    }
   ],
   "source": [
    "pca = PCA(n_components = 10)\n",
    "pca.fit(x_train)\n",
    "x_train_pca = pca.transform(x_train)\n",
    "regressor = DecisionTreeRegressor()\n",
    "alpha = np.linspace(0, 40, 20)\n",
    "mae_train=[]\n",
    "mae_val=[]\n",
    "mse_train=[]\n",
    "mse_val=[]\n",
    "for a in alpha:\n",
    "    regressor = DecisionTreeRegressor(ccp_alpha=a)\n",
    "    scores = cross_validate(regressor, x_train_pca,y_train, scoring=(\"neg_mean_squared_error\", \"neg_mean_absolute_error\"),return_train_score=True ,cv=10)\n",
    "    mse_train.append(-scores['train_neg_mean_squared_error'].mean())\n",
    "    mse_val.append(-scores['test_neg_mean_squared_error'].mean())\n",
    "    mae_train.append(-scores['train_neg_mean_absolute_error'].mean())\n",
    "    mae_val.append(-scores['test_neg_mean_absolute_error'].mean())\n",
    "   \n",
    " \n",
    "\n",
    "    \n",
    "    # plot mae and mse\n",
    "fig, (ax1, ax2) = plt.subplots(1, 2)\n",
    "ax1.plot(alpha,mae_train , label='train',marker='o',drawstyle=\"steps-post\")\n",
    "ax1.plot(alpha,mae_val, label='test',marker='o',drawstyle=\"steps-post\")\n",
    "ax1.title.set_text('MAE vs alpha training and testing set')\n",
    "ax1.legend(loc=\"upper right\", frameon=False)\n",
    "ax2.plot(alpha, mse_train,label='train',marker='o',drawstyle=\"steps-post\")\n",
    "ax2.plot(alpha, mse_val,label='test',marker='o',drawstyle=\"steps-post\")\n",
    "ax2.title.set_text('MSE vs alpha training and testing set')\n",
    "ax2.legend(frameon=False)\n",
    "    "
   ]
  },
  {
   "cell_type": "markdown",
   "id": "altered-apparatus",
   "metadata": {
    "papermill": {
     "duration": 0.038298,
     "end_time": "2022-08-24T22:34:34.467549",
     "exception": false,
     "start_time": "2022-08-24T22:34:34.429251",
     "status": "completed"
    },
    "tags": []
   },
   "source": [
    "From the graph above , the best alpha value that minimizes both train and test error is 0"
   ]
  },
  {
   "cell_type": "code",
   "execution_count": 15,
   "id": "sudden-cameroon",
   "metadata": {
    "execution": {
     "iopub.execute_input": "2022-08-24T22:34:34.547876Z",
     "iopub.status.busy": "2022-08-24T22:34:34.545824Z",
     "iopub.status.idle": "2022-08-24T22:34:35.162543Z",
     "shell.execute_reply": "2022-08-24T22:34:35.161917Z",
     "shell.execute_reply.started": "2021-07-05T12:05:01.88261Z"
    },
    "papermill": {
     "duration": 0.658627,
     "end_time": "2022-08-24T22:34:35.162723",
     "exception": false,
     "start_time": "2022-08-24T22:34:34.504096",
     "status": "completed"
    },
    "tags": []
   },
   "outputs": [],
   "source": [
    "pca = PCA(n_components = 10)\n",
    "pca.fit(x_train)\n",
    "x_train_pca = pca.transform(x_train)\n",
    "x_test_pca = pca.transform(x_test)\n",
    "regressor = DecisionTreeRegressor(ccp_alpha=0) \n",
    "regressor.fit(x_train_pca,y_train)\n",
    "#predict the test data\n",
    "y_pred = regressor.predict(x_test_pca)\n"
   ]
  },
  {
   "cell_type": "code",
   "execution_count": 16,
   "id": "downtown-encoding",
   "metadata": {
    "execution": {
     "iopub.execute_input": "2022-08-24T22:34:35.239625Z",
     "iopub.status.busy": "2022-08-24T22:34:35.238477Z",
     "iopub.status.idle": "2022-08-24T22:34:35.242897Z",
     "shell.execute_reply": "2022-08-24T22:34:35.243503Z",
     "shell.execute_reply.started": "2021-07-05T12:05:50.857973Z"
    },
    "papermill": {
     "duration": 0.045995,
     "end_time": "2022-08-24T22:34:35.243727",
     "exception": false,
     "start_time": "2022-08-24T22:34:35.197732",
     "status": "completed"
    },
    "tags": []
   },
   "outputs": [
    {
     "name": "stdout",
     "output_type": "stream",
     "text": [
      "mae score =  6.328261761071952\n",
      "mse score =  146.35106791068546\n"
     ]
    }
   ],
   "source": [
    "mae = mean_absolute_error(y_test, y_pred)\n",
    "mse = mean_squared_error(y_test, y_pred)\n",
    "print(\"mae score = \",mae)\n",
    "print(\"mse score = \",mse)"
   ]
  },
  {
   "cell_type": "markdown",
   "id": "particular-bedroom",
   "metadata": {
    "papermill": {
     "duration": 0.034946,
     "end_time": "2022-08-24T22:34:35.314407",
     "exception": false,
     "start_time": "2022-08-24T22:34:35.279461",
     "status": "completed"
    },
    "tags": []
   },
   "source": [
    "## random forest regressor \n",
    "\n",
    "for the random forest regressor, there exist a considerable number of hyperparameters must be set by the user before training, this includes the number of decision trees in the forest and the number of features considered by each tree when splitting a node. to find out the probably best value candidates, we'll conduct the gridsearch technique, the results will then be used to fit the model on the whole trainnig set.\n",
    "\n",
    "these are the parameters we're trying to adjust:\n",
    "* n_estimators = number of trees in the foreset\n",
    "* max_features = max number of features considered for splitting a node\n",
    "* max_depth = max number of levels in each decision tree\n",
    "* bootstrap = method for sampling data points (with or without replacement)"
   ]
  },
  {
   "cell_type": "code",
   "execution_count": 17,
   "id": "listed-freedom",
   "metadata": {
    "execution": {
     "iopub.execute_input": "2022-08-24T22:34:35.388723Z",
     "iopub.status.busy": "2022-08-24T22:34:35.387962Z",
     "iopub.status.idle": "2022-08-24T22:44:26.336224Z",
     "shell.execute_reply": "2022-08-24T22:44:26.337151Z",
     "shell.execute_reply.started": "2021-07-05T12:06:13.228676Z"
    },
    "papermill": {
     "duration": 590.987358,
     "end_time": "2022-08-24T22:44:26.337436",
     "exception": false,
     "start_time": "2022-08-24T22:34:35.350078",
     "status": "completed"
    },
    "tags": []
   },
   "outputs": [
    {
     "name": "stderr",
     "output_type": "stream",
     "text": [
      "/opt/conda/lib/python3.7/site-packages/joblib/externals/loky/process_executor.py:691: UserWarning: A worker stopped while some jobs were given to the executor. This can be caused by a too short worker timeout or by a memory leak.\n",
      "  \"timeout or by a memory leak.\", UserWarning\n"
     ]
    },
    {
     "name": "stdout",
     "output_type": "stream",
     "text": [
      "Best depth: 90\n",
      "Best number of features: 3\n",
      "Best number of trees: 700\n"
     ]
    }
   ],
   "source": [
    "model = RandomForestRegressor()\n",
    "\n",
    "#candidate values of hyperparameters\n",
    "parameters = {\n",
    "    'bootstrap': [True],\n",
    "    'max_depth': [80, 90, 100, 110],\n",
    "    'max_features': [2, 3],\n",
    "    'n_estimators': [100, 300, 500,700]}\n",
    "grid = GridSearchCV(model, parameters, cv=3, n_jobs=-1)\n",
    "grid.fit(x_train_pca, y_train.ravel())\n",
    "print('Best depth:',grid.best_estimator_.max_depth) \n",
    "print('Best number of features:',grid.best_estimator_.max_features)\n",
    "print('Best number of trees:',grid.best_estimator_.n_estimators)"
   ]
  },
  {
   "cell_type": "code",
   "execution_count": 18,
   "id": "applied-rachel",
   "metadata": {
    "execution": {
     "iopub.execute_input": "2022-08-24T22:44:26.417258Z",
     "iopub.status.busy": "2022-08-24T22:44:26.416524Z",
     "iopub.status.idle": "2022-08-24T22:44:58.005613Z",
     "shell.execute_reply": "2022-08-24T22:44:58.006299Z",
     "shell.execute_reply.started": "2021-07-05T12:19:14.980059Z"
    },
    "papermill": {
     "duration": 31.632086,
     "end_time": "2022-08-24T22:44:58.006510",
     "exception": false,
     "start_time": "2022-08-24T22:44:26.374424",
     "status": "completed"
    },
    "tags": []
   },
   "outputs": [
    {
     "name": "stdout",
     "output_type": "stream",
     "text": [
      "mae score =  5.725258304192619\n",
      "mse score =  99.42535238540003\n"
     ]
    }
   ],
   "source": [
    "#Random Forest regressor\n",
    "model=RandomForestRegressor(n_estimators=500,bootstrap=True,random_state=21,verbose=0,max_depth=100,max_features=3)\n",
    "model.fit(x_train_pca,y_train.ravel())\n",
    "y_pred = model.predict(x_test_pca)\n",
    "\n",
    "mae = mean_absolute_error(y_test, y_pred)\n",
    "mse = mean_squared_error(y_test, y_pred)\n",
    "print(\"mae score = \",mae)\n",
    "print(\"mse score = \",mse)"
   ]
  },
  {
   "cell_type": "markdown",
   "id": "presidential-teacher",
   "metadata": {
    "papermill": {
     "duration": 0.03697,
     "end_time": "2022-08-24T22:44:58.080131",
     "exception": false,
     "start_time": "2022-08-24T22:44:58.043161",
     "status": "completed"
    },
    "tags": []
   },
   "source": [
    "As expected ,the randomforest shows better performance, than simple tree, the main cause is that the decision tree is more prone to overfit, however the randomforest aggregate many decision trees to limit overfitting as well as error due to bias and therefore yield great results."
   ]
  },
  {
   "cell_type": "code",
   "execution_count": null,
   "id": "detailed-development",
   "metadata": {
    "papermill": {
     "duration": 0.035955,
     "end_time": "2022-08-24T22:44:58.151975",
     "exception": false,
     "start_time": "2022-08-24T22:44:58.116020",
     "status": "completed"
    },
    "tags": []
   },
   "outputs": [],
   "source": []
  }
 ],
 "metadata": {
  "kernelspec": {
   "display_name": "Python 3",
   "language": "python",
   "name": "python3"
  },
  "language_info": {
   "codemirror_mode": {
    "name": "ipython",
    "version": 3
   },
   "file_extension": ".py",
   "mimetype": "text/x-python",
   "name": "python",
   "nbconvert_exporter": "python",
   "pygments_lexer": "ipython3",
   "version": "3.7.10"
  },
  "papermill": {
   "default_parameters": {},
   "duration": 1022.236727,
   "end_time": "2022-08-24T22:45:00.152170",
   "environment_variables": {},
   "exception": null,
   "input_path": "__notebook__.ipynb",
   "output_path": "__notebook__.ipynb",
   "parameters": {},
   "start_time": "2022-08-24T22:27:57.915443",
   "version": "2.3.3"
  }
 },
 "nbformat": 4,
 "nbformat_minor": 5
}
